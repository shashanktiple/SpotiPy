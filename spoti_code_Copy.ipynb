{
 "cells": [
  {
   "cell_type": "code",
   "execution_count": 1,
   "id": "00446392-6ca9-4c2b-a63f-b5261c8f22b9",
   "metadata": {},
   "outputs": [
    {
     "name": "stdout",
     "output_type": "stream",
     "text": [
      "Collecting Spotify\n",
      "  Downloading spotify-0.10.2-py3-none-any.whl.metadata (5.5 kB)\n",
      "Collecting aiohttp<4.0,>=3.6 (from Spotify)\n",
      "  Downloading aiohttp-3.9.5-cp311-cp311-macosx_11_0_arm64.whl.metadata (7.5 kB)\n",
      "Collecting backoff<2.0.0,>=1.10.0 (from Spotify)\n",
      "  Downloading backoff-1.11.1-py2.py3-none-any.whl.metadata (12 kB)\n",
      "Collecting aiosignal>=1.1.2 (from aiohttp<4.0,>=3.6->Spotify)\n",
      "  Downloading aiosignal-1.3.1-py3-none-any.whl.metadata (4.0 kB)\n",
      "Collecting attrs>=17.3.0 (from aiohttp<4.0,>=3.6->Spotify)\n",
      "  Using cached attrs-23.2.0-py3-none-any.whl.metadata (9.5 kB)\n",
      "Collecting frozenlist>=1.1.1 (from aiohttp<4.0,>=3.6->Spotify)\n",
      "  Downloading frozenlist-1.4.1-cp311-cp311-macosx_11_0_arm64.whl.metadata (12 kB)\n",
      "Collecting multidict<7.0,>=4.5 (from aiohttp<4.0,>=3.6->Spotify)\n",
      "  Downloading multidict-6.0.5-cp311-cp311-macosx_11_0_arm64.whl.metadata (4.2 kB)\n",
      "Collecting yarl<2.0,>=1.0 (from aiohttp<4.0,>=3.6->Spotify)\n",
      "  Downloading yarl-1.9.4-cp311-cp311-macosx_11_0_arm64.whl.metadata (31 kB)\n",
      "Requirement already satisfied: idna>=2.0 in /Library/Frameworks/Python.framework/Versions/3.11/lib/python3.11/site-packages (from yarl<2.0,>=1.0->aiohttp<4.0,>=3.6->Spotify) (3.7)\n",
      "Downloading spotify-0.10.2-py3-none-any.whl (46 kB)\n",
      "\u001b[2K   \u001b[90m━━━━━━━━━━━━━━━━━━━━━━━━━━━━━━━━━━━━━━━━\u001b[0m \u001b[32m46.4/46.4 kB\u001b[0m \u001b[31m3.3 MB/s\u001b[0m eta \u001b[36m0:00:00\u001b[0m\n",
      "\u001b[?25hDownloading aiohttp-3.9.5-cp311-cp311-macosx_11_0_arm64.whl (390 kB)\n",
      "\u001b[2K   \u001b[90m━━━━━━━━━━━━━━━━━━━━━━━━━━━━━━━━━━━━━━━━\u001b[0m \u001b[32m390.2/390.2 kB\u001b[0m \u001b[31m6.1 MB/s\u001b[0m eta \u001b[36m0:00:00\u001b[0ma \u001b[36m0:00:01\u001b[0m\n",
      "\u001b[?25hDownloading backoff-1.11.1-py2.py3-none-any.whl (13 kB)\n",
      "Downloading aiosignal-1.3.1-py3-none-any.whl (7.6 kB)\n",
      "Using cached attrs-23.2.0-py3-none-any.whl (60 kB)\n",
      "Downloading frozenlist-1.4.1-cp311-cp311-macosx_11_0_arm64.whl (53 kB)\n",
      "\u001b[2K   \u001b[90m━━━━━━━━━━━━━━━━━━━━━━━━━━━━━━━━━━━━━━━━\u001b[0m \u001b[32m53.4/53.4 kB\u001b[0m \u001b[31m4.8 MB/s\u001b[0m eta \u001b[36m0:00:00\u001b[0m\n",
      "\u001b[?25hDownloading multidict-6.0.5-cp311-cp311-macosx_11_0_arm64.whl (30 kB)\n",
      "Downloading yarl-1.9.4-cp311-cp311-macosx_11_0_arm64.whl (81 kB)\n",
      "\u001b[2K   \u001b[90m━━━━━━━━━━━━━━━━━━━━━━━━━━━━━━━━━━━━━━━━\u001b[0m \u001b[32m81.2/81.2 kB\u001b[0m \u001b[31m7.1 MB/s\u001b[0m eta \u001b[36m0:00:00\u001b[0m\n",
      "\u001b[?25hInstalling collected packages: multidict, frozenlist, backoff, attrs, yarl, aiosignal, aiohttp, Spotify\n",
      "Successfully installed Spotify-0.10.2 aiohttp-3.9.5 aiosignal-1.3.1 attrs-23.2.0 backoff-1.11.1 frozenlist-1.4.1 multidict-6.0.5 yarl-1.9.4\n",
      "\n",
      "\u001b[1m[\u001b[0m\u001b[34;49mnotice\u001b[0m\u001b[1;39;49m]\u001b[0m\u001b[39;49m A new release of pip is available: \u001b[0m\u001b[31;49m24.1\u001b[0m\u001b[39;49m -> \u001b[0m\u001b[32;49m24.1.2\u001b[0m\n",
      "\u001b[1m[\u001b[0m\u001b[34;49mnotice\u001b[0m\u001b[1;39;49m]\u001b[0m\u001b[39;49m To update, run: \u001b[0m\u001b[32;49mpip install --upgrade pip\u001b[0m\n"
     ]
    }
   ],
   "source": [
    "!pip install Spotify\n"
   ]
  },
  {
   "cell_type": "code",
   "execution_count": 60,
   "id": "d30fa8ed-0547-46b5-9b54-05432343aade",
   "metadata": {},
   "outputs": [
    {
     "name": "stdout",
     "output_type": "stream",
     "text": [
      "Requirement already satisfied: pandas in /Library/Frameworks/Python.framework/Versions/3.11/lib/python3.11/site-packages (2.2.2)\n",
      "Requirement already satisfied: numpy>=1.23.2 in /Library/Frameworks/Python.framework/Versions/3.11/lib/python3.11/site-packages (from pandas) (2.0.0)\n",
      "Requirement already satisfied: python-dateutil>=2.8.2 in /Library/Frameworks/Python.framework/Versions/3.11/lib/python3.11/site-packages (from pandas) (2.9.0.post0)\n",
      "Requirement already satisfied: pytz>=2020.1 in /Library/Frameworks/Python.framework/Versions/3.11/lib/python3.11/site-packages (from pandas) (2024.1)\n",
      "Requirement already satisfied: tzdata>=2022.7 in /Library/Frameworks/Python.framework/Versions/3.11/lib/python3.11/site-packages (from pandas) (2024.1)\n",
      "Requirement already satisfied: six>=1.5 in /Library/Frameworks/Python.framework/Versions/3.11/lib/python3.11/site-packages (from python-dateutil>=2.8.2->pandas) (1.16.0)\n",
      "\n",
      "\u001b[1m[\u001b[0m\u001b[34;49mnotice\u001b[0m\u001b[1;39;49m]\u001b[0m\u001b[39;49m A new release of pip is available: \u001b[0m\u001b[31;49m24.1\u001b[0m\u001b[39;49m -> \u001b[0m\u001b[32;49m24.1.2\u001b[0m\n",
      "\u001b[1m[\u001b[0m\u001b[34;49mnotice\u001b[0m\u001b[1;39;49m]\u001b[0m\u001b[39;49m To update, run: \u001b[0m\u001b[32;49mpip install --upgrade pip\u001b[0m\n"
     ]
    }
   ],
   "source": [
    "!pip install pandas"
   ]
  },
  {
   "cell_type": "code",
   "execution_count": 7,
   "id": "3b79f06a-f235-436d-b823-732bb10c136b",
   "metadata": {},
   "outputs": [
    {
     "name": "stdout",
     "output_type": "stream",
     "text": [
      "Collecting spotipy\n",
      "  Using cached spotipy-2.24.0-py3-none-any.whl.metadata (4.9 kB)\n",
      "Collecting redis>=3.5.3 (from spotipy)\n",
      "  Using cached redis-5.0.7-py3-none-any.whl.metadata (9.3 kB)\n",
      "Requirement already satisfied: requests>=2.25.0 in /Library/Frameworks/Python.framework/Versions/3.12/lib/python3.12/site-packages (from spotipy) (2.31.0)\n",
      "Requirement already satisfied: urllib3>=1.26.0 in /Library/Frameworks/Python.framework/Versions/3.12/lib/python3.12/site-packages (from spotipy) (2.2.1)\n",
      "Requirement already satisfied: charset-normalizer<4,>=2 in /Library/Frameworks/Python.framework/Versions/3.12/lib/python3.12/site-packages (from requests>=2.25.0->spotipy) (3.3.2)\n",
      "Requirement already satisfied: idna<4,>=2.5 in /Library/Frameworks/Python.framework/Versions/3.12/lib/python3.12/site-packages (from requests>=2.25.0->spotipy) (3.7)\n",
      "Requirement already satisfied: certifi>=2017.4.17 in /Library/Frameworks/Python.framework/Versions/3.12/lib/python3.12/site-packages (from requests>=2.25.0->spotipy) (2024.2.2)\n",
      "Using cached spotipy-2.24.0-py3-none-any.whl (30 kB)\n",
      "Using cached redis-5.0.7-py3-none-any.whl (252 kB)\n",
      "Installing collected packages: redis, spotipy\n",
      "Successfully installed redis-5.0.7 spotipy-2.24.0\n",
      "\n",
      "\u001b[1m[\u001b[0m\u001b[34;49mnotice\u001b[0m\u001b[1;39;49m]\u001b[0m\u001b[39;49m A new release of pip is available: \u001b[0m\u001b[31;49m24.0\u001b[0m\u001b[39;49m -> \u001b[0m\u001b[32;49m24.1.2\u001b[0m\n",
      "\u001b[1m[\u001b[0m\u001b[34;49mnotice\u001b[0m\u001b[1;39;49m]\u001b[0m\u001b[39;49m To update, run: \u001b[0m\u001b[32;49mpip3.12 install --upgrade pip\u001b[0m\n",
      "Note: you may need to restart the kernel to use updated packages.\n"
     ]
    }
   ],
   "source": [
    "pip install spotipy --upgrade"
   ]
  },
  {
   "cell_type": "code",
   "execution_count": 69,
   "id": "da48f9d3-daa9-42e4-b0fa-6d3246895fae",
   "metadata": {},
   "outputs": [
    {
     "name": "stdout",
     "output_type": "stream",
     "text": [
      "Requirement already satisfied: pandas in /Library/Frameworks/Python.framework/Versions/3.11/lib/python3.11/site-packages (2.2.2)\n",
      "Requirement already satisfied: numpy>=1.23.2 in /Library/Frameworks/Python.framework/Versions/3.11/lib/python3.11/site-packages (from pandas) (2.0.0)\n",
      "Requirement already satisfied: python-dateutil>=2.8.2 in /Library/Frameworks/Python.framework/Versions/3.11/lib/python3.11/site-packages (from pandas) (2.9.0.post0)\n",
      "Requirement already satisfied: pytz>=2020.1 in /Library/Frameworks/Python.framework/Versions/3.11/lib/python3.11/site-packages (from pandas) (2024.1)\n",
      "Requirement already satisfied: tzdata>=2022.7 in /Library/Frameworks/Python.framework/Versions/3.11/lib/python3.11/site-packages (from pandas) (2024.1)\n",
      "Requirement already satisfied: six>=1.5 in /Library/Frameworks/Python.framework/Versions/3.11/lib/python3.11/site-packages (from python-dateutil>=2.8.2->pandas) (1.16.0)\n",
      "\n",
      "\u001b[1m[\u001b[0m\u001b[34;49mnotice\u001b[0m\u001b[1;39;49m]\u001b[0m\u001b[39;49m A new release of pip is available: \u001b[0m\u001b[31;49m24.1\u001b[0m\u001b[39;49m -> \u001b[0m\u001b[32;49m24.1.2\u001b[0m\n",
      "\u001b[1m[\u001b[0m\u001b[34;49mnotice\u001b[0m\u001b[1;39;49m]\u001b[0m\u001b[39;49m To update, run: \u001b[0m\u001b[32;49mpip install --upgrade pip\u001b[0m\n"
     ]
    }
   ],
   "source": [
    "!pip install pandas\n"
   ]
  },
  {
   "cell_type": "code",
   "execution_count": 72,
   "id": "485c0e79-6e73-43f0-8776-5a8e6c0b9e24",
   "metadata": {},
   "outputs": [],
   "source": [
    "import spotipy\n",
    "from spotipy.oauth2 import SpotifyClientCredentials\n",
    "import pandas as pd\n"
   ]
  },
  {
   "cell_type": "code",
   "execution_count": 18,
   "id": "68e2c3b5-c4e9-4c33-ba2d-ad14ce2c3cc1",
   "metadata": {},
   "outputs": [],
   "source": [
    "client_credentials_manager = SpotifyClientCredentials(client_id=\"******************\",client_secret=\"****************\")"
   ]
  },
  {
   "cell_type": "code",
   "execution_count": 19,
   "id": "da3a1b7e-da64-48c5-88f7-938099433e64",
   "metadata": {},
   "outputs": [],
   "source": [
    "sp = spotipy.Spotify(client_credentials_manager=client_credentials_manager)"
   ]
  },
  {
   "cell_type": "code",
   "execution_count": 20,
   "id": "3b5a1ed9-9200-4362-927d-4d6640f6748e",
   "metadata": {},
   "outputs": [],
   "source": [
    "playlist_link = \"https://open.spotify.com/playlist/37i9dQZEVXbLRQDuF5jeBp\""
   ]
  },
  {
   "cell_type": "code",
   "execution_count": 23,
   "id": "5d8eb99f-fa00-46c3-a871-f9c1145e61c2",
   "metadata": {},
   "outputs": [
    {
     "data": {
      "text/plain": [
       "['https:', '', 'open.spotify.com', 'playlist', '37i9dQZEVXbLRQDuF5jeBp']"
      ]
     },
     "execution_count": 23,
     "metadata": {},
     "output_type": "execute_result"
    }
   ],
   "source": [
    "playlist_link.split(\"/\")"
   ]
  },
  {
   "cell_type": "code",
   "execution_count": 25,
   "id": "ebc9e9c6-0274-4a67-a49b-4cc0939f878d",
   "metadata": {},
   "outputs": [],
   "source": [
    "link_uri = playlist_link.split(\"/\")[-1]"
   ]
  },
  {
   "cell_type": "code",
   "execution_count": 26,
   "id": "8cbe757f-5521-47cb-a752-10a268b93ff9",
   "metadata": {},
   "outputs": [
    {
     "name": "stdout",
     "output_type": "stream",
     "text": [
      "37i9dQZEVXbLRQDuF5jeBp\n"
     ]
    }
   ],
   "source": [
    "print(link_uri)"
   ]
  },
  {
   "cell_type": "code",
   "execution_count": 30,
   "id": "7b063ff7-b720-4248-8d70-3fb115aa639c",
   "metadata": {
    "editable": true,
    "slideshow": {
     "slide_type": ""
    },
    "tags": []
   },
   "outputs": [
    {
     "name": "stderr",
     "output_type": "stream",
     "text": [
      "Couldn't read cache at: .cache\n",
      "Couldn't write token to cache at: .cache\n"
     ]
    }
   ],
   "source": [
    "data = sp.playlist_tracks(link_uri)"
   ]
  },
  {
   "cell_type": "code",
   "execution_count": null,
   "id": "77d23eb7-edfe-4880-8b86-697cf60a54fe",
   "metadata": {},
   "outputs": [],
   "source": [
    "data['items']"
   ]
  },
  {
   "cell_type": "code",
   "execution_count": 31,
   "id": "6345b6bf-26b8-444a-a9fc-1686d81396f2",
   "metadata": {},
   "outputs": [
    {
     "data": {
      "text/plain": [
       "50"
      ]
     },
     "execution_count": 31,
     "metadata": {},
     "output_type": "execute_result"
    }
   ],
   "source": [
    "len(data['items'])"
   ]
  },
  {
   "cell_type": "code",
   "execution_count": 35,
   "id": "b1a79027-57af-48b6-837f-563dc84403cf",
   "metadata": {},
   "outputs": [],
   "source": [
    "album_list = []\n",
    "\n",
    "for row in data['items']:\n",
    "    album_id = row['track']['album']['id']\n",
    "    album_name = row['track']['album']['name']\n",
    "    album_release_date =  row['track']['album']['release_date']\n",
    "    album_total_tracks =  row['track']['album']['total_tracks']\n",
    "    album_url = row['track']['album']['external_urls']['spotify']\n",
    "    album_elements= {'album_id': album_id, 'name': album_name, 'release_date': album_release_date,\n",
    "                'total_tracks':album_total_tracks, 'url': album_url}\n",
    "    album_list.append(album_elements)"
   ]
  },
  {
   "cell_type": "code",
   "execution_count": 44,
   "id": "fd64abe1-8610-4c19-a769-704604253b57",
   "metadata": {},
   "outputs": [
    {
     "data": {
      "text/plain": [
       "[{'external_urls': {'spotify': 'https://open.spotify.com/artist/2YZyLoL8N0Wb9xBt1NhZWg'},\n",
       "  'href': 'https://api.spotify.com/v1/artists/2YZyLoL8N0Wb9xBt1NhZWg',\n",
       "  'id': '2YZyLoL8N0Wb9xBt1NhZWg',\n",
       "  'name': 'Kendrick Lamar',\n",
       "  'type': 'artist',\n",
       "  'uri': 'spotify:artist:2YZyLoL8N0Wb9xBt1NhZWg'}]"
      ]
     },
     "execution_count": 44,
     "metadata": {},
     "output_type": "execute_result"
    }
   ],
   "source": [
    "data['items'][0]['track']['artists']"
   ]
  },
  {
   "cell_type": "code",
   "execution_count": 50,
   "id": "e56672c6-96e3-4671-b435-f367826a060a",
   "metadata": {},
   "outputs": [],
   "source": [
    "artist_list = []\n",
    "for row in data['items']:\n",
    "    for key,value in row.items():\n",
    "        if key == 'track':\n",
    "            for artist in value['artists']:\n",
    "                artist_dict={'artist_id':artist['id'],'artist_name': artist['name'], 'external_url':artist['href']}\n",
    "                artist_list.append(artist_dict)"
   ]
  },
  {
   "cell_type": "code",
   "execution_count": 52,
   "id": "0279bbf3-8583-4fe9-9186-bdc75a73f3ac",
   "metadata": {},
   "outputs": [],
   "source": [
    "song_list = []\n",
    "for row in data['items']:\n",
    "    song_id = row['track']['id']\n",
    "    song_name = row['track']['name']\n",
    "    song_duration = row['track']['duration_ms']\n",
    "    song_url = row['track']['external_urls']['spotify']\n",
    "    song_popularity = row['track']['popularity']\n",
    "    song_added = row['added_at']\n",
    "    album_id = row['track']['album']['id']\n",
    "    artist_id = row['track']['album']['artists'][0]['id']\n",
    "    song_element = {'song_id':song_id,'song_name':song_name,'duration_ms':song_duration,'url':song_url,\n",
    "                    'popularity':song_popularity,'song_added':song_added,'album_id':album_id,\n",
    "                    'artist_id':artist_id\n",
    "                   }\n",
    "    song_list.append(song_element)"
   ]
  },
  {
   "cell_type": "code",
   "execution_count": 73,
   "id": "f0982e11-4fcd-4a84-8984-f33dd769dc77",
   "metadata": {},
   "outputs": [],
   "source": [
    "album_df = pd.DataFrame.from_dict(album_list)"
   ]
  },
  {
   "cell_type": "code",
   "execution_count": 75,
   "id": "a7b76bb6-4adb-440c-9b0d-0aa0846bd1c7",
   "metadata": {},
   "outputs": [
    {
     "data": {
      "text/html": [
       "<div>\n",
       "<style scoped>\n",
       "    .dataframe tbody tr th:only-of-type {\n",
       "        vertical-align: middle;\n",
       "    }\n",
       "\n",
       "    .dataframe tbody tr th {\n",
       "        vertical-align: top;\n",
       "    }\n",
       "\n",
       "    .dataframe thead th {\n",
       "        text-align: right;\n",
       "    }\n",
       "</style>\n",
       "<table border=\"1\" class=\"dataframe\">\n",
       "  <thead>\n",
       "    <tr style=\"text-align: right;\">\n",
       "      <th></th>\n",
       "      <th>album_id</th>\n",
       "      <th>name</th>\n",
       "      <th>release_date</th>\n",
       "      <th>total_tracks</th>\n",
       "      <th>url</th>\n",
       "    </tr>\n",
       "  </thead>\n",
       "  <tbody>\n",
       "    <tr>\n",
       "      <th>0</th>\n",
       "      <td>5JjnoGJyOxfSZUZtk2rRwZ</td>\n",
       "      <td>Not Like Us</td>\n",
       "      <td>2024-05-04</td>\n",
       "      <td>1</td>\n",
       "      <td>https://open.spotify.com/album/5JjnoGJyOxfSZUZ...</td>\n",
       "    </tr>\n",
       "    <tr>\n",
       "      <th>1</th>\n",
       "      <td>1woYXxyyxTQJ0E0AhZE6mj</td>\n",
       "      <td>I Had Some Help</td>\n",
       "      <td>2024-05-10</td>\n",
       "      <td>1</td>\n",
       "      <td>https://open.spotify.com/album/1woYXxyyxTQJ0E0...</td>\n",
       "    </tr>\n",
       "    <tr>\n",
       "      <th>2</th>\n",
       "      <td>0DLvFVIfwt3OHdK9kGeEM3</td>\n",
       "      <td>Where I've Been, Isn't Where I'm Going</td>\n",
       "      <td>2024-05-31</td>\n",
       "      <td>12</td>\n",
       "      <td>https://open.spotify.com/album/0DLvFVIfwt3OHdK...</td>\n",
       "    </tr>\n",
       "    <tr>\n",
       "      <th>3</th>\n",
       "      <td>7aJuG4TFXa2hmE4z1yxc3n</td>\n",
       "      <td>HIT ME HARD AND SOFT</td>\n",
       "      <td>2024-05-17</td>\n",
       "      <td>10</td>\n",
       "      <td>https://open.spotify.com/album/7aJuG4TFXa2hmE4...</td>\n",
       "    </tr>\n",
       "    <tr>\n",
       "      <th>4</th>\n",
       "      <td>1WAjjRMfZjEXtB0lQrAw6Q</td>\n",
       "      <td>Good Luck, Babe!</td>\n",
       "      <td>2024-04-05</td>\n",
       "      <td>1</td>\n",
       "      <td>https://open.spotify.com/album/1WAjjRMfZjEXtB0...</td>\n",
       "    </tr>\n",
       "  </tbody>\n",
       "</table>\n",
       "</div>"
      ],
      "text/plain": [
       "                 album_id                                    name  \\\n",
       "0  5JjnoGJyOxfSZUZtk2rRwZ                             Not Like Us   \n",
       "1  1woYXxyyxTQJ0E0AhZE6mj                         I Had Some Help   \n",
       "2  0DLvFVIfwt3OHdK9kGeEM3  Where I've Been, Isn't Where I'm Going   \n",
       "3  7aJuG4TFXa2hmE4z1yxc3n                    HIT ME HARD AND SOFT   \n",
       "4  1WAjjRMfZjEXtB0lQrAw6Q                        Good Luck, Babe!   \n",
       "\n",
       "  release_date  total_tracks  \\\n",
       "0   2024-05-04             1   \n",
       "1   2024-05-10             1   \n",
       "2   2024-05-31            12   \n",
       "3   2024-05-17            10   \n",
       "4   2024-04-05             1   \n",
       "\n",
       "                                                 url  \n",
       "0  https://open.spotify.com/album/5JjnoGJyOxfSZUZ...  \n",
       "1  https://open.spotify.com/album/1woYXxyyxTQJ0E0...  \n",
       "2  https://open.spotify.com/album/0DLvFVIfwt3OHdK...  \n",
       "3  https://open.spotify.com/album/7aJuG4TFXa2hmE4...  \n",
       "4  https://open.spotify.com/album/1WAjjRMfZjEXtB0...  "
      ]
     },
     "execution_count": 75,
     "metadata": {},
     "output_type": "execute_result"
    }
   ],
   "source": [
    "album_df.head()"
   ]
  },
  {
   "cell_type": "code",
   "execution_count": 77,
   "id": "634c6ae4-e2e2-4c3d-800e-8a686eee5030",
   "metadata": {},
   "outputs": [
    {
     "name": "stdout",
     "output_type": "stream",
     "text": [
      "<class 'pandas.core.frame.DataFrame'>\n",
      "RangeIndex: 50 entries, 0 to 49\n",
      "Data columns (total 5 columns):\n",
      " #   Column        Non-Null Count  Dtype \n",
      "---  ------        --------------  ----- \n",
      " 0   album_id      50 non-null     object\n",
      " 1   name          50 non-null     object\n",
      " 2   release_date  50 non-null     object\n",
      " 3   total_tracks  50 non-null     int64 \n",
      " 4   url           50 non-null     object\n",
      "dtypes: int64(1), object(4)\n",
      "memory usage: 2.1+ KB\n"
     ]
    }
   ],
   "source": [
    "album_df.info() \n",
    "#some data has object type if we want to transform the data we'll have to chenge the type"
   ]
  },
  {
   "cell_type": "code",
   "execution_count": 78,
   "id": "24d6eb84-09c1-4137-bd8c-5a9c8ee7c766",
   "metadata": {},
   "outputs": [],
   "source": [
    "album_df = album_df.drop_duplicates(subset = ['album_id']) #to remove duplicates"
   ]
  },
  {
   "cell_type": "code",
   "execution_count": 79,
   "id": "61c85d06-c48d-4242-bd1e-56b7a2ac9796",
   "metadata": {},
   "outputs": [],
   "source": [
    "artist_df = pd.DataFrame.from_dict(artist_list)"
   ]
  },
  {
   "cell_type": "code",
   "execution_count": 81,
   "id": "6d4c55ae-2ebd-47f5-9eb5-e8f5b39980da",
   "metadata": {},
   "outputs": [],
   "source": [
    "artist_df = artist_df.drop_duplicates(subset = ['artist_id'])"
   ]
  },
  {
   "cell_type": "code",
   "execution_count": 82,
   "id": "f19e2079-74a8-4967-b1f8-3ed0d1e506e9",
   "metadata": {},
   "outputs": [],
   "source": [
    "song_df = pd.DataFrame.from_dict(song_list)"
   ]
  },
  {
   "cell_type": "code",
   "execution_count": 84,
   "id": "76c95751-49cd-4a44-a5a3-cabb5bcf182a",
   "metadata": {},
   "outputs": [
    {
     "data": {
      "text/html": [
       "<div>\n",
       "<style scoped>\n",
       "    .dataframe tbody tr th:only-of-type {\n",
       "        vertical-align: middle;\n",
       "    }\n",
       "\n",
       "    .dataframe tbody tr th {\n",
       "        vertical-align: top;\n",
       "    }\n",
       "\n",
       "    .dataframe thead th {\n",
       "        text-align: right;\n",
       "    }\n",
       "</style>\n",
       "<table border=\"1\" class=\"dataframe\">\n",
       "  <thead>\n",
       "    <tr style=\"text-align: right;\">\n",
       "      <th></th>\n",
       "      <th>song_id</th>\n",
       "      <th>song_name</th>\n",
       "      <th>duration_ms</th>\n",
       "      <th>url</th>\n",
       "      <th>popularity</th>\n",
       "      <th>song_added</th>\n",
       "      <th>album_id</th>\n",
       "      <th>artist_id</th>\n",
       "    </tr>\n",
       "  </thead>\n",
       "  <tbody>\n",
       "    <tr>\n",
       "      <th>0</th>\n",
       "      <td>6AI3ezQ4o3HUoP6Dhudph3</td>\n",
       "      <td>Not Like Us</td>\n",
       "      <td>274192</td>\n",
       "      <td>https://open.spotify.com/track/6AI3ezQ4o3HUoP6...</td>\n",
       "      <td>97</td>\n",
       "      <td>2024-07-21T09:45:34Z</td>\n",
       "      <td>5JjnoGJyOxfSZUZtk2rRwZ</td>\n",
       "      <td>2YZyLoL8N0Wb9xBt1NhZWg</td>\n",
       "    </tr>\n",
       "    <tr>\n",
       "      <th>1</th>\n",
       "      <td>7221xIgOnuakPdLqT0F3nP</td>\n",
       "      <td>I Had Some Help (Feat. Morgan Wallen)</td>\n",
       "      <td>178205</td>\n",
       "      <td>https://open.spotify.com/track/7221xIgOnuakPdL...</td>\n",
       "      <td>95</td>\n",
       "      <td>2024-07-21T09:45:34Z</td>\n",
       "      <td>1woYXxyyxTQJ0E0AhZE6mj</td>\n",
       "      <td>246dkjvS1zLTtiykXe5h60</td>\n",
       "    </tr>\n",
       "    <tr>\n",
       "      <th>2</th>\n",
       "      <td>5fZJQrFKWQLb7FpJXZ1g7K</td>\n",
       "      <td>A Bar Song (Tipsy)</td>\n",
       "      <td>171291</td>\n",
       "      <td>https://open.spotify.com/track/5fZJQrFKWQLb7Fp...</td>\n",
       "      <td>88</td>\n",
       "      <td>2024-07-21T09:45:34Z</td>\n",
       "      <td>0DLvFVIfwt3OHdK9kGeEM3</td>\n",
       "      <td>3y2cIKLjiOlp1Np37WiUdH</td>\n",
       "    </tr>\n",
       "    <tr>\n",
       "      <th>3</th>\n",
       "      <td>6dOtVTDdiauQNBQEDOtlAB</td>\n",
       "      <td>BIRDS OF A FEATHER</td>\n",
       "      <td>210373</td>\n",
       "      <td>https://open.spotify.com/track/6dOtVTDdiauQNBQ...</td>\n",
       "      <td>99</td>\n",
       "      <td>2024-07-21T09:45:34Z</td>\n",
       "      <td>7aJuG4TFXa2hmE4z1yxc3n</td>\n",
       "      <td>6qqNVTkY8uBg9cP3Jd7DAH</td>\n",
       "    </tr>\n",
       "    <tr>\n",
       "      <th>4</th>\n",
       "      <td>0WbMK4wrZ1wFSty9F7FCgu</td>\n",
       "      <td>Good Luck, Babe!</td>\n",
       "      <td>218423</td>\n",
       "      <td>https://open.spotify.com/track/0WbMK4wrZ1wFSty...</td>\n",
       "      <td>95</td>\n",
       "      <td>2024-07-21T09:45:34Z</td>\n",
       "      <td>1WAjjRMfZjEXtB0lQrAw6Q</td>\n",
       "      <td>7GlBOeep6PqTfFi59PTUUN</td>\n",
       "    </tr>\n",
       "  </tbody>\n",
       "</table>\n",
       "</div>"
      ],
      "text/plain": [
       "                  song_id                              song_name  duration_ms  \\\n",
       "0  6AI3ezQ4o3HUoP6Dhudph3                            Not Like Us       274192   \n",
       "1  7221xIgOnuakPdLqT0F3nP  I Had Some Help (Feat. Morgan Wallen)       178205   \n",
       "2  5fZJQrFKWQLb7FpJXZ1g7K                     A Bar Song (Tipsy)       171291   \n",
       "3  6dOtVTDdiauQNBQEDOtlAB                     BIRDS OF A FEATHER       210373   \n",
       "4  0WbMK4wrZ1wFSty9F7FCgu                       Good Luck, Babe!       218423   \n",
       "\n",
       "                                                 url  popularity  \\\n",
       "0  https://open.spotify.com/track/6AI3ezQ4o3HUoP6...          97   \n",
       "1  https://open.spotify.com/track/7221xIgOnuakPdL...          95   \n",
       "2  https://open.spotify.com/track/5fZJQrFKWQLb7Fp...          88   \n",
       "3  https://open.spotify.com/track/6dOtVTDdiauQNBQ...          99   \n",
       "4  https://open.spotify.com/track/0WbMK4wrZ1wFSty...          95   \n",
       "\n",
       "             song_added                album_id               artist_id  \n",
       "0  2024-07-21T09:45:34Z  5JjnoGJyOxfSZUZtk2rRwZ  2YZyLoL8N0Wb9xBt1NhZWg  \n",
       "1  2024-07-21T09:45:34Z  1woYXxyyxTQJ0E0AhZE6mj  246dkjvS1zLTtiykXe5h60  \n",
       "2  2024-07-21T09:45:34Z  0DLvFVIfwt3OHdK9kGeEM3  3y2cIKLjiOlp1Np37WiUdH  \n",
       "3  2024-07-21T09:45:34Z  7aJuG4TFXa2hmE4z1yxc3n  6qqNVTkY8uBg9cP3Jd7DAH  \n",
       "4  2024-07-21T09:45:34Z  1WAjjRMfZjEXtB0lQrAw6Q  7GlBOeep6PqTfFi59PTUUN  "
      ]
     },
     "execution_count": 84,
     "metadata": {},
     "output_type": "execute_result"
    }
   ],
   "source": [
    "song_df.head() #we are not removeing duplicates for song as its preety unique"
   ]
  },
  {
   "cell_type": "code",
   "execution_count": 85,
   "id": "c8d17dd8-ab41-476c-b01a-da0379fa87d0",
   "metadata": {},
   "outputs": [
    {
     "data": {
      "text/html": [
       "<div>\n",
       "<style scoped>\n",
       "    .dataframe tbody tr th:only-of-type {\n",
       "        vertical-align: middle;\n",
       "    }\n",
       "\n",
       "    .dataframe tbody tr th {\n",
       "        vertical-align: top;\n",
       "    }\n",
       "\n",
       "    .dataframe thead th {\n",
       "        text-align: right;\n",
       "    }\n",
       "</style>\n",
       "<table border=\"1\" class=\"dataframe\">\n",
       "  <thead>\n",
       "    <tr style=\"text-align: right;\">\n",
       "      <th></th>\n",
       "      <th>artist_id</th>\n",
       "      <th>artist_name</th>\n",
       "      <th>external_url</th>\n",
       "    </tr>\n",
       "  </thead>\n",
       "  <tbody>\n",
       "    <tr>\n",
       "      <th>0</th>\n",
       "      <td>2YZyLoL8N0Wb9xBt1NhZWg</td>\n",
       "      <td>Kendrick Lamar</td>\n",
       "      <td>https://api.spotify.com/v1/artists/2YZyLoL8N0W...</td>\n",
       "    </tr>\n",
       "    <tr>\n",
       "      <th>1</th>\n",
       "      <td>246dkjvS1zLTtiykXe5h60</td>\n",
       "      <td>Post Malone</td>\n",
       "      <td>https://api.spotify.com/v1/artists/246dkjvS1zL...</td>\n",
       "    </tr>\n",
       "    <tr>\n",
       "      <th>2</th>\n",
       "      <td>4oUHIQIBe0LHzYfvXNW4QM</td>\n",
       "      <td>Morgan Wallen</td>\n",
       "      <td>https://api.spotify.com/v1/artists/4oUHIQIBe0L...</td>\n",
       "    </tr>\n",
       "    <tr>\n",
       "      <th>3</th>\n",
       "      <td>3y2cIKLjiOlp1Np37WiUdH</td>\n",
       "      <td>Shaboozey</td>\n",
       "      <td>https://api.spotify.com/v1/artists/3y2cIKLjiOl...</td>\n",
       "    </tr>\n",
       "    <tr>\n",
       "      <th>4</th>\n",
       "      <td>6qqNVTkY8uBg9cP3Jd7DAH</td>\n",
       "      <td>Billie Eilish</td>\n",
       "      <td>https://api.spotify.com/v1/artists/6qqNVTkY8uB...</td>\n",
       "    </tr>\n",
       "  </tbody>\n",
       "</table>\n",
       "</div>"
      ],
      "text/plain": [
       "                artist_id     artist_name  \\\n",
       "0  2YZyLoL8N0Wb9xBt1NhZWg  Kendrick Lamar   \n",
       "1  246dkjvS1zLTtiykXe5h60     Post Malone   \n",
       "2  4oUHIQIBe0LHzYfvXNW4QM   Morgan Wallen   \n",
       "3  3y2cIKLjiOlp1Np37WiUdH       Shaboozey   \n",
       "4  6qqNVTkY8uBg9cP3Jd7DAH   Billie Eilish   \n",
       "\n",
       "                                        external_url  \n",
       "0  https://api.spotify.com/v1/artists/2YZyLoL8N0W...  \n",
       "1  https://api.spotify.com/v1/artists/246dkjvS1zL...  \n",
       "2  https://api.spotify.com/v1/artists/4oUHIQIBe0L...  \n",
       "3  https://api.spotify.com/v1/artists/3y2cIKLjiOl...  \n",
       "4  https://api.spotify.com/v1/artists/6qqNVTkY8uB...  "
      ]
     },
     "execution_count": 85,
     "metadata": {},
     "output_type": "execute_result"
    }
   ],
   "source": [
    "artist_df.head()"
   ]
  },
  {
   "cell_type": "code",
   "execution_count": null,
   "id": "fc8e0ce0-b743-4588-9214-1dc23fde598e",
   "metadata": {},
   "outputs": [],
   "source": [
    "#we cleaned the data above and now we start transforming it\n"
   ]
  },
  {
   "cell_type": "code",
   "execution_count": 87,
   "id": "bde90c50-fff7-4f5d-8a95-3291a5854225",
   "metadata": {},
   "outputs": [
    {
     "name": "stderr",
     "output_type": "stream",
     "text": [
      "/var/folders/qs/tscx30l92v91qd13121169_c0000gn/T/ipykernel_7519/3126744046.py:1: SettingWithCopyWarning: \n",
      "A value is trying to be set on a copy of a slice from a DataFrame.\n",
      "Try using .loc[row_indexer,col_indexer] = value instead\n",
      "\n",
      "See the caveats in the documentation: https://pandas.pydata.org/pandas-docs/stable/user_guide/indexing.html#returning-a-view-versus-a-copy\n",
      "  album_df['release_date'] = pd.to_datetime(album_df['release_date'])\n"
     ]
    }
   ],
   "source": [
    "album_df['release_date'] = pd.to_datetime(album_df['release_date'])\n",
    "#changing the date format"
   ]
  },
  {
   "cell_type": "code",
   "execution_count": 91,
   "id": "5a39524a-a4e5-4da1-a447-4b0a6c2e3f8d",
   "metadata": {},
   "outputs": [],
   "source": [
    "song_df['song_added']= pd.to_datetime(song_df['song_added'])"
   ]
  },
  {
   "cell_type": "code",
   "execution_count": 93,
   "id": "71c63f76-22e7-4b71-b33b-46df22c158ea",
   "metadata": {},
   "outputs": [
    {
     "name": "stdout",
     "output_type": "stream",
     "text": [
      "<class 'pandas.core.frame.DataFrame'>\n",
      "RangeIndex: 50 entries, 0 to 49\n",
      "Data columns (total 8 columns):\n",
      " #   Column       Non-Null Count  Dtype              \n",
      "---  ------       --------------  -----              \n",
      " 0   song_id      50 non-null     object             \n",
      " 1   song_name    50 non-null     object             \n",
      " 2   duration_ms  50 non-null     int64              \n",
      " 3   url          50 non-null     object             \n",
      " 4   popularity   50 non-null     int64              \n",
      " 5   song_added   50 non-null     datetime64[ns, UTC]\n",
      " 6   album_id     50 non-null     object             \n",
      " 7   artist_id    50 non-null     object             \n",
      "dtypes: datetime64[ns, UTC](1), int64(2), object(5)\n",
      "memory usage: 3.3+ KB\n"
     ]
    }
   ],
   "source": [
    "song_df.info()"
   ]
  },
  {
   "cell_type": "code",
   "execution_count": null,
   "id": "651f3dfe-9f87-49d1-8e88-bf2ce6ccffdb",
   "metadata": {},
   "outputs": [],
   "source": []
  }
 ],
 "metadata": {
  "kernelspec": {
   "display_name": "Python 3 (ipykernel)",
   "language": "python",
   "name": "python3"
  },
  "language_info": {
   "codemirror_mode": {
    "name": "ipython",
    "version": 3
   },
   "file_extension": ".py",
   "mimetype": "text/x-python",
   "name": "python",
   "nbconvert_exporter": "python",
   "pygments_lexer": "ipython3",
   "version": "3.12.3"
  }
 },
 "nbformat": 4,
 "nbformat_minor": 5
}
